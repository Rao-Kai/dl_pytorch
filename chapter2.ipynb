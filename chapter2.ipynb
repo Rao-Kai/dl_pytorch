{
  "cells": [
    {
      "cell_type": "markdown",
      "metadata": {
        "id": "view-in-github",
        "colab_type": "text"
      },
      "source": [
        "<a href=\"https://colab.research.google.com/github/Rao-Kai/dl_pytorch/blob/main/chapter2.ipynb\" target=\"_parent\"><img src=\"https://colab.research.google.com/assets/colab-badge.svg\" alt=\"Open In Colab\"/></a>"
      ]
    },
    {
      "cell_type": "code",
      "source": [
        "import torch"
      ],
      "metadata": {
        "id": "YDSDEB7EphRd"
      },
      "execution_count": null,
      "outputs": []
    },
    {
      "cell_type": "code",
      "source": [
        "x = torch.arange(4).reshape(2,2)\n",
        "x.shape"
      ],
      "metadata": {
        "id": "xoG6SdNPTM5L",
        "outputId": "f5654416-32e3-4931-b9e4-c484ebfe8194",
        "colab": {
          "base_uri": "https://localhost:8080/"
        }
      },
      "execution_count": null,
      "outputs": [
        {
          "output_type": "execute_result",
          "data": {
            "text/plain": [
              "torch.Size([2, 2])"
            ]
          },
          "metadata": {},
          "execution_count": 2
        }
      ]
    },
    {
      "cell_type": "code",
      "source": [
        "x=torch.arange(24).reshape(2,3,4)\n",
        "a=2\n",
        "x**a"
      ],
      "metadata": {
        "id": "f0f68aCcav7h",
        "outputId": "1260c04f-4887-42a3-8cba-e56066581df7",
        "colab": {
          "base_uri": "https://localhost:8080/"
        }
      },
      "execution_count": null,
      "outputs": [
        {
          "output_type": "execute_result",
          "data": {
            "text/plain": [
              "tensor([[[  0,   1,   4,   9],\n",
              "         [ 16,  25,  36,  49],\n",
              "         [ 64,  81, 100, 121]],\n",
              "\n",
              "        [[144, 169, 196, 225],\n",
              "         [256, 289, 324, 361],\n",
              "         [400, 441, 484, 529]]])"
            ]
          },
          "metadata": {},
          "execution_count": 3
        }
      ]
    },
    {
      "cell_type": "code",
      "source": [
        "x=torch.arange(4).reshape(2,2)\n",
        "x.sum(axis=0)"
      ],
      "metadata": {
        "id": "NiNdwL1QfMS9",
        "outputId": "a88edfa6-a4d3-48aa-cb3c-cebfbbf2fad1",
        "colab": {
          "base_uri": "https://localhost:8080/"
        }
      },
      "execution_count": null,
      "outputs": [
        {
          "output_type": "execute_result",
          "data": {
            "text/plain": [
              "tensor([2, 4])"
            ]
          },
          "metadata": {},
          "execution_count": 4
        }
      ]
    },
    {
      "cell_type": "code",
      "source": [
        "x=torch.tensor([1,2,3,4], dtype=torch.float32)\n",
        "y=torch.ones(4, dtype=torch.float32)\n",
        "z=torch.dot(x,y)  \n",
        "# dot用于向量相乘\n",
        "z"
      ],
      "metadata": {
        "colab": {
          "base_uri": "https://localhost:8080/"
        },
        "id": "FIB0H7eFzQRy",
        "outputId": "c2181a56-aa89-4eff-b268-a601b5a99a45"
      },
      "execution_count": null,
      "outputs": [
        {
          "output_type": "execute_result",
          "data": {
            "text/plain": [
              "tensor(10.)"
            ]
          },
          "metadata": {},
          "execution_count": 7
        }
      ]
    },
    {
      "cell_type": "code",
      "source": [
        "A = torch.arange(20, dtype = torch.float32).reshape(5,4)\n",
        "z = torch.mv(A, y)\n",
        "# mv表示矩阵和向量相乘 matrix * vector\n",
        "A, y, z"
      ],
      "metadata": {
        "id": "d1pwt6_p0Q3a",
        "colab": {
          "base_uri": "https://localhost:8080/"
        },
        "outputId": "6c97022d-496b-4b4f-f5a1-6920601b5be9"
      },
      "execution_count": 10,
      "outputs": [
        {
          "output_type": "execute_result",
          "data": {
            "text/plain": [
              "(tensor([[ 0.,  1.,  2.,  3.],\n",
              "         [ 4.,  5.,  6.,  7.],\n",
              "         [ 8.,  9., 10., 11.],\n",
              "         [12., 13., 14., 15.],\n",
              "         [16., 17., 18., 19.]]),\n",
              " tensor([1., 1., 1., 1.]),\n",
              " tensor([ 6., 22., 38., 54., 70.]))"
            ]
          },
          "metadata": {},
          "execution_count": 10
        }
      ]
    },
    {
      "cell_type": "code",
      "source": [
        "B = torch.arange(16, dtype = torch.float32).reshape(4,4)\n",
        "z = torch.mm(A, B)\n",
        "z"
      ],
      "metadata": {
        "colab": {
          "base_uri": "https://localhost:8080/"
        },
        "id": "7J6KYOvy16XS",
        "outputId": "77815c7e-757a-4170-ee9f-ecf28e6d0803"
      },
      "execution_count": 14,
      "outputs": [
        {
          "output_type": "execute_result",
          "data": {
            "text/plain": [
              "tensor([[ 56.,  62.,  68.,  74.],\n",
              "        [152., 174., 196., 218.],\n",
              "        [248., 286., 324., 362.],\n",
              "        [344., 398., 452., 506.],\n",
              "        [440., 510., 580., 650.]])"
            ]
          },
          "metadata": {},
          "execution_count": 14
        }
      ]
    },
    {
      "cell_type": "code",
      "source": [
        "z = torch.norm(x)\n",
        "z"
      ],
      "metadata": {
        "colab": {
          "base_uri": "https://localhost:8080/"
        },
        "id": "6INzB1Jg3h7N",
        "outputId": "d2d81fd0-02f5-4658-bc50-701c5a56acb8"
      },
      "execution_count": 16,
      "outputs": [
        {
          "output_type": "execute_result",
          "data": {
            "text/plain": [
              "tensor(5.4772)"
            ]
          },
          "metadata": {},
          "execution_count": 16
        }
      ]
    }
  ],
  "metadata": {
    "colab": {
      "provenance": [],
      "collapsed_sections": [],
      "authorship_tag": "ABX9TyPMWxV7RFLrAJ59Uvi11sb8",
      "include_colab_link": true
    },
    "kernelspec": {
      "display_name": "Python 3",
      "name": "python3"
    },
    "language_info": {
      "name": "python"
    }
  },
  "nbformat": 4,
  "nbformat_minor": 0
}