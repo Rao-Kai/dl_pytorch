{
 "cells": [
  {
   "cell_type": "code",
   "execution_count": 15,
   "metadata": {},
   "outputs": [],
   "source": [
    "import numpy as np\n",
    "import torch\n",
    "from torch.utils import data\n",
    "from d2l import torch as d2l\n",
    "from torch import nn"
   ]
  },
  {
   "cell_type": "code",
   "execution_count": 16,
   "metadata": {},
   "outputs": [],
   "source": [
    "true_w = torch.tensor([2, -3.4])\n",
    "true_b = 4.2\n",
    "features, labels = d2l.synthetic_data(true_w, true_b, 1000)"
   ]
  },
  {
   "cell_type": "code",
   "execution_count": 17,
   "metadata": {},
   "outputs": [],
   "source": [
    "def load_array(data_arrays, batch_size, is_train = True):\n",
    "    dataset = data.TensorDataset(*data_arrays)\n",
    "    return data.DataLoader(dataset, batch_size, shuffle=is_train)"
   ]
  },
  {
   "cell_type": "code",
   "execution_count": 18,
   "metadata": {},
   "outputs": [],
   "source": [
    "batch_size = 10\n",
    "data_iter = load_array((features, labels), batch_size)"
   ]
  },
  {
   "cell_type": "code",
   "execution_count": 19,
   "metadata": {},
   "outputs": [
    {
     "data": {
      "text/plain": [
       "[tensor([[-7.1918e-01,  1.4541e+00],\n",
       "         [-4.3751e-01,  7.5707e-02],\n",
       "         [ 1.8059e+00, -2.3621e-01],\n",
       "         [-3.8955e-01,  4.0950e-04],\n",
       "         [ 1.5181e+00, -5.6703e-01],\n",
       "         [-4.9628e-01,  5.5227e-01],\n",
       "         [-2.1622e-01, -6.3930e-01],\n",
       "         [ 2.3845e+00,  6.6537e-01],\n",
       "         [ 8.8322e-01,  2.6399e-01],\n",
       "         [ 5.8099e-01,  6.9272e-01]]),\n",
       " tensor([[-2.1897],\n",
       "         [ 3.0766],\n",
       "         [ 8.6126],\n",
       "         [ 3.4195],\n",
       "         [ 9.1672],\n",
       "         [ 1.3512],\n",
       "         [ 5.9475],\n",
       "         [ 6.7088],\n",
       "         [ 5.0533],\n",
       "         [ 3.0142]])]"
      ]
     },
     "execution_count": 19,
     "metadata": {},
     "output_type": "execute_result"
    }
   ],
   "source": [
    "next(iter(data_iter))"
   ]
  },
  {
   "cell_type": "code",
   "execution_count": 20,
   "metadata": {},
   "outputs": [],
   "source": [
    "# nn.Linear中，第一个是输入的神经元个数，第二个是输出神经元个数\n",
    "# https://blog.csdn.net/zhaohongfei_358/article/details/122797190\n",
    "net = nn.Sequential(nn.Linear(2, 1))"
   ]
  },
  {
   "cell_type": "code",
   "execution_count": 21,
   "metadata": {},
   "outputs": [
    {
     "data": {
      "text/plain": [
       "tensor([0.])"
      ]
     },
     "execution_count": 21,
     "metadata": {},
     "output_type": "execute_result"
    }
   ],
   "source": [
    "# 初始化nn的参数\n",
    "net[0].weight.data.normal_(0, 0.01)\n",
    "net[0].bias.data.fill_(0)"
   ]
  },
  {
   "cell_type": "code",
   "execution_count": 22,
   "metadata": {},
   "outputs": [],
   "source": [
    "# 定义loss\n",
    "loss = nn.MSELoss()"
   ]
  },
  {
   "cell_type": "code",
   "execution_count": 23,
   "metadata": {},
   "outputs": [],
   "source": [
    "# 定义优化算法\n",
    "trainer = torch.optim.SGD(net.parameters(), lr=0.03)"
   ]
  },
  {
   "cell_type": "code",
   "execution_count": 24,
   "metadata": {},
   "outputs": [
    {
     "name": "stdout",
     "output_type": "stream",
     "text": [
      "epoch 1, loss 0.000245\n",
      "epoch 2, loss 0.000102\n",
      "epoch 3, loss 0.000102\n"
     ]
    }
   ],
   "source": [
    "num_epochs = 3\n",
    "for epoch in range(num_epochs):\n",
    "    for X, y in data_iter:\n",
    "        l = loss(net(X) ,y)\n",
    "        trainer.zero_grad()\n",
    "        l.backward()\n",
    "        trainer.step()\n",
    "    l = loss(net(features), labels)\n",
    "    print(f'epoch {epoch + 1}, loss {l:f}')"
   ]
  },
  {
   "cell_type": "code",
   "execution_count": 25,
   "metadata": {},
   "outputs": [
    {
     "name": "stdout",
     "output_type": "stream",
     "text": [
      "tensor([[ 2.0000, -3.4004]])\n",
      "tensor([ 2.0000, -3.4004])\n",
      "w的估计误差： tensor([1.0729e-05, 3.7909e-04])\n",
      "tensor([4.2002])\n",
      "b的估计误差： tensor([-0.0002])\n"
     ]
    }
   ],
   "source": [
    "w = net[0].weight.data\n",
    "print(w)\n",
    "print(w.reshape(true_w.shape))\n",
    "print('w的估计误差：', true_w - w.reshape(true_w.shape))\n",
    "b = net[0].bias.data\n",
    "print(b)\n",
    "print('b的估计误差：', true_b - b)"
   ]
  },
  {
   "cell_type": "code",
   "execution_count": 26,
   "metadata": {},
   "outputs": [
    {
     "data": {
      "text/plain": [
       "torch.Size([2])"
      ]
     },
     "execution_count": 26,
     "metadata": {},
     "output_type": "execute_result"
    }
   ],
   "source": [
    "x=torch.tensor([ 1.9989, -3.4005])\n",
    "x.shape"
   ]
  },
  {
   "cell_type": "code",
   "execution_count": 27,
   "metadata": {},
   "outputs": [
    {
     "data": {
      "text/plain": [
       "torch.Size([1, 2])"
      ]
     },
     "execution_count": 27,
     "metadata": {},
     "output_type": "execute_result"
    }
   ],
   "source": [
    "# 只有一个中括号就当列向量看，有两个中括号当矩阵看\n",
    "x=torch.tensor([[ 1.9989, -3.4005]])\n",
    "x.shape"
   ]
  },
  {
   "cell_type": "code",
   "execution_count": 28,
   "metadata": {},
   "outputs": [
    {
     "data": {
      "text/plain": [
       "(torch.Size([10, 2]),\n",
       " tensor([[1.4162e+00, 4.1320e-01],\n",
       "         [5.1710e-01, 2.1374e+00],\n",
       "         [4.2520e-01, 1.3140e+00],\n",
       "         [3.6530e-01, 2.1200e+00],\n",
       "         [3.7000e-03, 4.0180e+00],\n",
       "         [2.5813e+00, 7.3850e-01],\n",
       "         [5.0510e-01, 4.0363e+00],\n",
       "         [1.3605e+00, 2.5714e+00],\n",
       "         [1.4059e+00, 7.5900e-01],\n",
       "         [1.1744e+00, 3.4118e+00]]))"
      ]
     },
     "execution_count": 28,
     "metadata": {},
     "output_type": "execute_result"
    }
   ],
   "source": [
    "# b会自动加到x的每一行，前提是列数对上,如果b只给1的话，那么x所有元素都加1\n",
    "x=torch.tensor([[ 0.4162, -1.5868],\n",
    "         [-0.4829,  0.1374],\n",
    "         [-0.5748, -0.6860],\n",
    "         [-0.6347,  0.1200],\n",
    "         [-0.9963,  2.0180],\n",
    "         [ 1.5813, -1.2615],\n",
    "         [-0.4949,  2.0363],\n",
    "         [ 0.3605,  0.5714],\n",
    "         [ 0.4059, -1.2410],\n",
    "         [ 0.1744,  1.4118]])\n",
    "b = torch.tensor([[1, 2]])\n",
    "# b = torch.tensor([1])\n",
    "z = x + b\n",
    "x.shape, z"
   ]
  },
  {
   "cell_type": "code",
   "execution_count": 32,
   "metadata": {},
   "outputs": [
    {
     "data": {
      "text/plain": [
       "tensor([[0.],\n",
       "        [0.],\n",
       "        [0.],\n",
       "        [0.],\n",
       "        [0.],\n",
       "        [0.],\n",
       "        [0.],\n",
       "        [0.],\n",
       "        [0.],\n",
       "        [0.]])"
      ]
     },
     "execution_count": 32,
     "metadata": {},
     "output_type": "execute_result"
    }
   ],
   "source": [
    "# 在pytorch框架下，如果只给一个参数，比如torch.zeros(10)，那返回的就是张量，\n",
    "# 这个东西既不是行向量也不是列向量，因为转置是不会改变这个东西的\n",
    "# 所以，当需要一个列向量的时候，应该给两个参数，比如torch.zeros(10,1)\n",
    "# 所以当给一个参数的时候，理解成行向量就ok\n",
    "# 当对这种类向量进行探究的时候，即n*1或1*n的矩阵，两个框就是矩阵，shape返回两个数字；一个框就是张量，shape返回只有一个数\n",
    "aa=torch.tensor([[ 2.3426],\n",
    "         [ 2.6211],\n",
    "         [-1.2698],\n",
    "         [ 9.9087],\n",
    "         [-0.2319],\n",
    "         [ 5.0248],\n",
    "         [ 8.5821],\n",
    "         [ 7.5928],\n",
    "         [ 3.2568],\n",
    "         [ 6.8076]])\n",
    "aa.shape\n",
    "b=aa.T\n",
    "b, b.shape\n",
    "aa = torch.zeros(10,1)\n",
    "aa"
   ]
  }
 ],
 "metadata": {
  "kernelspec": {
   "display_name": "Python 3.7.13 ('pytorch_learn')",
   "language": "python",
   "name": "python3"
  },
  "language_info": {
   "codemirror_mode": {
    "name": "ipython",
    "version": 3
   },
   "file_extension": ".py",
   "mimetype": "text/x-python",
   "name": "python",
   "nbconvert_exporter": "python",
   "pygments_lexer": "ipython3",
   "version": "3.7.13"
  },
  "orig_nbformat": 4,
  "vscode": {
   "interpreter": {
    "hash": "abf5d04bc362157f287624cd77184143bed674d60eb2a06af2be32d87558d63d"
   }
  }
 },
 "nbformat": 4,
 "nbformat_minor": 2
}
